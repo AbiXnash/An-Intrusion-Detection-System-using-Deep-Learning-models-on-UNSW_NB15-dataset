{
 "cells": [
  {
   "cell_type": "code",
   "execution_count": 5,
   "id": "7e3bddef",
   "metadata": {},
   "outputs": [],
   "source": [
    "import numpy as np\n",
    "import pandas as pd\n",
    "from sklearn.model_selection import train_test_split\n",
    "from keras.models import Sequential\n",
    "from keras.layers import Conv1D, MaxPooling1D, Dropout, Dense, LSTM, Flatten\n",
    "from keras.optimizers import Adam\n",
    "from keras.callbacks import EarlyStopping, ModelCheckpoint\n",
    "from plot import plot_training_vs_validation\n",
    "from sklearn.metrics import confusion_matrix, classification_report"
   ]
  },
  {
   "cell_type": "code",
   "execution_count": 6,
   "id": "d9b008f8",
   "metadata": {},
   "outputs": [],
   "source": [
    "bin_data = pd.read_csv(\"bin_data.csv\")"
   ]
  },
  {
   "cell_type": "code",
   "execution_count": 7,
   "id": "c19f83cc",
   "metadata": {},
   "outputs": [],
   "source": [
    "X = bin_data.drop(columns = ['label'], axis = 1)\n",
    "Y = bin_data['label']"
   ]
  },
  {
   "cell_type": "code",
   "execution_count": 8,
   "id": "c81e2576",
   "metadata": {},
   "outputs": [],
   "source": [
    "X_train, X_test, y_train, y_test = train_test_split(X, Y, test_size = 0.20, random_state = 50)"
   ]
  },
  {
   "cell_type": "code",
   "execution_count": 10,
   "id": "efbbda0a",
   "metadata": {},
   "outputs": [],
   "source": [
    "X_train_reshaped = X_train.values.reshape((X_train.shape[0], X_train.shape[1], 1))"
   ]
  },
  {
   "cell_type": "code",
   "execution_count": 11,
   "id": "bfb3b79a",
   "metadata": {},
   "outputs": [],
   "source": [
    "X_test_reshaped = X_test.values.reshape((X_test.shape[0], X_test.shape[1], 1))"
   ]
  },
  {
   "cell_type": "code",
   "execution_count": 13,
   "id": "93735f75",
   "metadata": {},
   "outputs": [],
   "source": [
    "unique_labels = np.unique(y_train)\n",
    "num_classes = len(unique_labels)"
   ]
  },
  {
   "cell_type": "code",
   "execution_count": 14,
   "id": "60a6525a",
   "metadata": {},
   "outputs": [
    {
     "data": {
      "text/plain": [
       "(array([0, 1], dtype=int64), 2)"
      ]
     },
     "execution_count": 14,
     "metadata": {},
     "output_type": "execute_result"
    }
   ],
   "source": [
    "unique_labels, num_classes"
   ]
  },
  {
   "cell_type": "code",
   "execution_count": 18,
   "id": "15d8d34c",
   "metadata": {},
   "outputs": [
    {
     "name": "stdout",
     "output_type": "stream",
     "text": [
      "WARNING:tensorflow:From C:\\Users\\Abinash\\anaconda3\\lib\\site-packages\\keras\\src\\backend.py:6642: The name tf.nn.max_pool is deprecated. Please use tf.nn.max_pool2d instead.\n",
      "\n"
     ]
    }
   ],
   "source": [
    "cnn_model = Sequential()\n",
    "cnn_model.add(Conv1D(filters = 64, kernel_size = 3, activation = 'relu', input_shape = (X_train.shape[1], 1)))\n",
    "cnn_model.add(MaxPooling1D(pool_size = 2))\n",
    "cnn_model.add(Dropout(0.35))\n",
    "cnn_model.add(Flatten())\n",
    "cnn_model.add(Dense(64, activation = 'relu'))\n",
    "cnn_model.add(Dense(num_classes, activation='softmax'))"
   ]
  },
  {
   "cell_type": "code",
   "execution_count": 24,
   "id": "eb21e13a",
   "metadata": {},
   "outputs": [],
   "source": [
    "adam_optimizer = Adam(learning_rate = 1e-4)\n",
    "cnn_model.compile(\n",
    "    loss = 'sparse_categorical_crossentropy',\n",
    "    optimizer = adam_optimizer,\n",
    "    metrics = ['accuracy']\n",
    ")\n",
    "callbacks = [\n",
    "    EarlyStopping(monitor = 'val_loss', patience = 10),\n",
    "    ModelCheckpoint(\n",
    "        filepath = 'best_model_cnn.h5',\n",
    "        monitor = 'val_loss',\n",
    "        save_best_only = True\n",
    "    )\n",
    "]"
   ]
  },
  {
   "cell_type": "code",
   "execution_count": 25,
   "id": "524716f7",
   "metadata": {},
   "outputs": [
    {
     "name": "stdout",
     "output_type": "stream",
     "text": [
      "Epoch 1/50\n",
      "364/364 [==============================] - 5s 8ms/step - loss: 0.2364 - accuracy: 0.9413 - val_loss: 0.1114 - val_accuracy: 0.9616\n",
      "Epoch 2/50\n",
      "364/364 [==============================] - 3s 8ms/step - loss: 0.1492 - accuracy: 0.9496 - val_loss: 0.1394 - val_accuracy: 0.9593\n",
      "Epoch 3/50\n",
      "364/364 [==============================] - 3s 8ms/step - loss: 0.1609 - accuracy: 0.9483 - val_loss: 0.1152 - val_accuracy: 0.9633\n",
      "Epoch 4/50\n",
      "364/364 [==============================] - 3s 8ms/step - loss: 0.1677 - accuracy: 0.9479 - val_loss: 0.1268 - val_accuracy: 0.9593\n",
      "Epoch 5/50\n",
      "364/364 [==============================] - 3s 8ms/step - loss: 0.1734 - accuracy: 0.9483 - val_loss: 0.1531 - val_accuracy: 0.9512\n",
      "Epoch 6/50\n",
      "364/364 [==============================] - 3s 7ms/step - loss: 0.1521 - accuracy: 0.9497 - val_loss: 0.1589 - val_accuracy: 0.9366\n",
      "Epoch 7/50\n",
      "364/364 [==============================] - 2s 7ms/step - loss: 0.1513 - accuracy: 0.9504 - val_loss: 0.1303 - val_accuracy: 0.9594\n",
      "Epoch 8/50\n",
      "364/364 [==============================] - 3s 8ms/step - loss: 0.1499 - accuracy: 0.9512 - val_loss: 0.1061 - val_accuracy: 0.9624\n",
      "Epoch 9/50\n",
      "364/364 [==============================] - 3s 8ms/step - loss: 0.1484 - accuracy: 0.9520 - val_loss: 0.1154 - val_accuracy: 0.9598\n",
      "Epoch 10/50\n",
      "364/364 [==============================] - 3s 7ms/step - loss: 0.1492 - accuracy: 0.9512 - val_loss: 0.1038 - val_accuracy: 0.9624\n",
      "Epoch 11/50\n",
      "364/364 [==============================] - 3s 8ms/step - loss: 0.1608 - accuracy: 0.9501 - val_loss: 0.1035 - val_accuracy: 0.9630\n",
      "Epoch 12/50\n",
      "364/364 [==============================] - 3s 8ms/step - loss: 0.1780 - accuracy: 0.9484 - val_loss: 0.1089 - val_accuracy: 0.9602\n",
      "Epoch 13/50\n",
      "364/364 [==============================] - 3s 8ms/step - loss: 0.2027 - accuracy: 0.9464 - val_loss: 0.1174 - val_accuracy: 0.9594\n",
      "Epoch 14/50\n",
      "364/364 [==============================] - 3s 7ms/step - loss: 0.1995 - accuracy: 0.9475 - val_loss: 0.1030 - val_accuracy: 0.9640\n",
      "Epoch 15/50\n",
      "364/364 [==============================] - 3s 7ms/step - loss: 0.1334 - accuracy: 0.9537 - val_loss: 0.1335 - val_accuracy: 0.9597\n",
      "Epoch 16/50\n",
      "364/364 [==============================] - 3s 8ms/step - loss: 0.1279 - accuracy: 0.9558 - val_loss: 0.1298 - val_accuracy: 0.9616\n",
      "Epoch 17/50\n",
      "364/364 [==============================] - 3s 7ms/step - loss: 0.1386 - accuracy: 0.9539 - val_loss: 0.1007 - val_accuracy: 0.9630\n",
      "Epoch 18/50\n",
      "364/364 [==============================] - 3s 7ms/step - loss: 0.2560 - accuracy: 0.9472 - val_loss: 0.1023 - val_accuracy: 0.9626\n",
      "Epoch 19/50\n",
      "364/364 [==============================] - 3s 7ms/step - loss: 0.1287 - accuracy: 0.9553 - val_loss: 0.0994 - val_accuracy: 0.9642\n",
      "Epoch 20/50\n",
      "364/364 [==============================] - 3s 8ms/step - loss: 0.1281 - accuracy: 0.9553 - val_loss: 0.1101 - val_accuracy: 0.9602\n",
      "Epoch 21/50\n",
      "364/364 [==============================] - 3s 8ms/step - loss: 0.1232 - accuracy: 0.9571 - val_loss: 0.0980 - val_accuracy: 0.9638\n",
      "Epoch 22/50\n",
      "364/364 [==============================] - 3s 8ms/step - loss: 0.1229 - accuracy: 0.9573 - val_loss: 0.0974 - val_accuracy: 0.9644\n",
      "Epoch 23/50\n",
      "364/364 [==============================] - 3s 7ms/step - loss: 0.1254 - accuracy: 0.9568 - val_loss: 0.1171 - val_accuracy: 0.9598\n",
      "Epoch 24/50\n",
      "364/364 [==============================] - 3s 8ms/step - loss: 0.1222 - accuracy: 0.9581 - val_loss: 0.0976 - val_accuracy: 0.9634\n",
      "Epoch 25/50\n",
      "364/364 [==============================] - 3s 7ms/step - loss: 0.1268 - accuracy: 0.9572 - val_loss: 0.0993 - val_accuracy: 0.9652\n",
      "Epoch 26/50\n",
      "364/364 [==============================] - 3s 8ms/step - loss: 0.1263 - accuracy: 0.9572 - val_loss: 0.1075 - val_accuracy: 0.9605\n",
      "Epoch 27/50\n",
      "364/364 [==============================] - 3s 8ms/step - loss: 0.1235 - accuracy: 0.9577 - val_loss: 0.0977 - val_accuracy: 0.9631\n",
      "Epoch 28/50\n",
      "364/364 [==============================] - 3s 7ms/step - loss: 0.1183 - accuracy: 0.9581 - val_loss: 0.1185 - val_accuracy: 0.9601\n",
      "Epoch 29/50\n",
      "364/364 [==============================] - 3s 10ms/step - loss: 0.1219 - accuracy: 0.9571 - val_loss: 0.0981 - val_accuracy: 0.9627\n",
      "Epoch 30/50\n",
      "364/364 [==============================] - 3s 10ms/step - loss: 0.1128 - accuracy: 0.9597 - val_loss: 0.1275 - val_accuracy: 0.9592\n",
      "Epoch 31/50\n",
      "364/364 [==============================] - 3s 8ms/step - loss: 0.1150 - accuracy: 0.9597 - val_loss: 0.0928 - val_accuracy: 0.9656\n",
      "Epoch 32/50\n",
      "364/364 [==============================] - 3s 7ms/step - loss: 0.1171 - accuracy: 0.9587 - val_loss: 0.0953 - val_accuracy: 0.9639\n",
      "Epoch 33/50\n",
      "364/364 [==============================] - 3s 7ms/step - loss: 0.1145 - accuracy: 0.9596 - val_loss: 0.1041 - val_accuracy: 0.9648\n",
      "Epoch 34/50\n",
      "364/364 [==============================] - 3s 8ms/step - loss: 0.1118 - accuracy: 0.9604 - val_loss: 0.0931 - val_accuracy: 0.9667\n",
      "Epoch 35/50\n",
      "364/364 [==============================] - 3s 7ms/step - loss: 0.1145 - accuracy: 0.9599 - val_loss: 0.0934 - val_accuracy: 0.9648\n",
      "Epoch 36/50\n",
      "364/364 [==============================] - 3s 7ms/step - loss: 0.1140 - accuracy: 0.9603 - val_loss: 0.1122 - val_accuracy: 0.9643\n",
      "Epoch 37/50\n",
      "364/364 [==============================] - 3s 7ms/step - loss: 0.1069 - accuracy: 0.9615 - val_loss: 0.1083 - val_accuracy: 0.9610\n",
      "Epoch 38/50\n",
      "364/364 [==============================] - 3s 7ms/step - loss: 0.1117 - accuracy: 0.9605 - val_loss: 0.0908 - val_accuracy: 0.9672\n",
      "Epoch 39/50\n",
      "364/364 [==============================] - 3s 8ms/step - loss: 0.1106 - accuracy: 0.9606 - val_loss: 0.0931 - val_accuracy: 0.9670\n",
      "Epoch 40/50\n",
      "364/364 [==============================] - 3s 8ms/step - loss: 0.1041 - accuracy: 0.9620 - val_loss: 0.0906 - val_accuracy: 0.9680\n",
      "Epoch 41/50\n",
      "364/364 [==============================] - 3s 7ms/step - loss: 0.1057 - accuracy: 0.9621 - val_loss: 0.0919 - val_accuracy: 0.9658\n",
      "Epoch 42/50\n",
      "364/364 [==============================] - 3s 7ms/step - loss: 0.1051 - accuracy: 0.9615 - val_loss: 0.1082 - val_accuracy: 0.9637\n",
      "Epoch 43/50\n",
      "364/364 [==============================] - 3s 8ms/step - loss: 0.1046 - accuracy: 0.9616 - val_loss: 0.1277 - val_accuracy: 0.9606\n",
      "Epoch 44/50\n",
      "364/364 [==============================] - 3s 9ms/step - loss: 0.1026 - accuracy: 0.9629 - val_loss: 0.0878 - val_accuracy: 0.9677\n",
      "Epoch 45/50\n",
      "364/364 [==============================] - 3s 7ms/step - loss: 0.1056 - accuracy: 0.9617 - val_loss: 0.0918 - val_accuracy: 0.9661\n",
      "Epoch 46/50\n",
      "364/364 [==============================] - 3s 7ms/step - loss: 0.0994 - accuracy: 0.9633 - val_loss: 0.0912 - val_accuracy: 0.9666\n",
      "Epoch 47/50\n",
      "364/364 [==============================] - 3s 7ms/step - loss: 0.1936 - accuracy: 0.9533 - val_loss: 0.0888 - val_accuracy: 0.9683\n",
      "Epoch 48/50\n",
      "364/364 [==============================] - 3s 8ms/step - loss: 0.0975 - accuracy: 0.9638 - val_loss: 0.0944 - val_accuracy: 0.9650\n",
      "Epoch 49/50\n",
      "364/364 [==============================] - 3s 7ms/step - loss: 0.0958 - accuracy: 0.9647 - val_loss: 0.0971 - val_accuracy: 0.9646\n",
      "Epoch 50/50\n",
      "364/364 [==============================] - 3s 8ms/step - loss: 0.0978 - accuracy: 0.9638 - val_loss: 0.1017 - val_accuracy: 0.9643\n"
     ]
    }
   ],
   "source": [
    "cnn_history = cnn_model.fit(\n",
    "    X_train_reshpaed, y_train, epochs = 50, batch_size = 256, validation_data = (X_test_reshaped, y_test), callbacks=callbacks\n",
    ")"
   ]
  },
  {
   "cell_type": "code",
   "execution_count": 26,
   "id": "bfe91458",
   "metadata": {},
   "outputs": [
    {
     "name": "stdout",
     "output_type": "stream",
     "text": [
      "728/728 [==============================] - 3s 2ms/step\n"
     ]
    }
   ],
   "source": [
    "y_test_probabilities = cnn_model.predict(X_test_reshaped)\n",
    "y_test_pred = np.argmax(y_test_probabilities, axis = 1)"
   ]
  },
  {
   "cell_type": "code",
   "execution_count": 27,
   "id": "596ea4ba",
   "metadata": {},
   "outputs": [],
   "source": [
    "conf_matrix = confusion_matrix(y_test, y_test_pred)"
   ]
  },
  {
   "cell_type": "code",
   "execution_count": 31,
   "id": "00a8f7b1",
   "metadata": {},
   "outputs": [
    {
     "name": "stdout",
     "output_type": "stream",
     "text": [
      "[[17009   386]\n",
      " [  445  5431]]\n"
     ]
    }
   ],
   "source": [
    "print(conf_matrix)"
   ]
  },
  {
   "cell_type": "code",
   "execution_count": 32,
   "id": "5bb13f11",
   "metadata": {},
   "outputs": [
    {
     "name": "stdout",
     "output_type": "stream",
     "text": [
      "              precision    recall  f1-score   support\n",
      "\n",
      "           0       0.97      0.98      0.98     17395\n",
      "           1       0.93      0.92      0.93      5876\n",
      "\n",
      "    accuracy                           0.96     23271\n",
      "   macro avg       0.95      0.95      0.95     23271\n",
      "weighted avg       0.96      0.96      0.96     23271\n",
      "\n"
     ]
    }
   ],
   "source": [
    "print(classification_report(y_test, y_test_pred))"
   ]
  },
  {
   "cell_type": "code",
   "execution_count": 1,
   "id": "03074e72",
   "metadata": {},
   "outputs": [
    {
     "name": "stdout",
     "output_type": "stream",
     "text": [
      "\n"
     ]
    }
   ],
   "source": [
    "print()"
   ]
  },
  {
   "cell_type": "code",
   "execution_count": null,
   "id": "51148c28",
   "metadata": {},
   "outputs": [],
   "source": []
  }
 ],
 "metadata": {
  "kernelspec": {
   "display_name": "Python 3 (ipykernel)",
   "language": "python",
   "name": "python3"
  },
  "language_info": {
   "codemirror_mode": {
    "name": "ipython",
    "version": 3
   },
   "file_extension": ".py",
   "mimetype": "text/x-python",
   "name": "python",
   "nbconvert_exporter": "python",
   "pygments_lexer": "ipython3",
   "version": "3.10.9"
  }
 },
 "nbformat": 4,
 "nbformat_minor": 5
}
